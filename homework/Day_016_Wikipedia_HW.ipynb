{
 "cells": [
  {
   "cell_type": "markdown",
   "metadata": {},
   "source": [
    "# Wikipedia爬蟲練習\n",
    "## 範例：練習是從Wikipedia中爬取文章。先定義一個搜尋的關鍵字，擷取該關鍵字詞的文章。"
   ]
  },
  {
   "cell_type": "code",
   "execution_count": 15,
   "metadata": {},
   "outputs": [],
   "source": [
    "import requests\n",
    "import os\n",
    "import re\n",
    "\n",
    "from bs4 import BeautifulSoup"
   ]
  },
  {
   "cell_type": "markdown",
   "metadata": {},
   "source": [
    "### 先定義一個我們想搜尋的字詞，並將它轉換成UTF-8編碼後的URL"
   ]
  },
  {
   "cell_type": "code",
   "execution_count": 12,
   "metadata": {},
   "outputs": [
    {
     "name": "stdout",
     "output_type": "stream",
     "text": [
      "1917_(電影): 1917_(%E9%9B%BB%E5%BD%B1)\n",
      "/wiki/1917_(%E9%9B%BB%E5%BD%B1)\n"
     ]
    }
   ],
   "source": [
    "input_keyword = \"1917_(電影)\"  # 這裡可以自己定義有興趣的關鍵字\n",
    "\n",
    "utf8_url = repr(input_keyword.encode('UTF-8')).upper()  # 編碼成UTF-8並轉成大寫字元\n",
    "utf8_url = utf8_url.replace(\"\\\\X\", \"%\")                 # 用 '%' 取代 '\\X' \n",
    "print(\"%s: %s\" % (input_keyword, utf8_url[2:-1:1]))     # 擷取中間的編碼結果\n",
    "# 組成Wiki關鍵字搜尋的網址格式\n",
    "root_keyword_link = '/wiki/' + utf8_url[2:-1:1]\n",
    "print(root_keyword_link)"
   ]
  },
  {
   "cell_type": "markdown",
   "metadata": {},
   "source": [
    "### 範例1：送出關鍵字請求後，爬取該關鍵字的文章內容"
   ]
  },
  {
   "cell_type": "code",
   "execution_count": 13,
   "metadata": {},
   "outputs": [
    {
     "name": "stdout",
     "output_type": "stream",
     "text": [
      "《1917》（英語：1917，香港譯《1917：逆戰救兵》，中國大陸譯《1917》）是一部2019年英國和美國合拍的戰爭片，由山姆·曼德斯執導並與克莉絲蒂·威爾森-克倫斯（英語：Krysty Wilson-Cairns）共同撰寫劇本，故事主要描述兩名年輕的英國士兵在第一次世界大戰期間穿越槍林彈雨，傳達重要情報從而阻止友軍落入德軍圈套。其主演包括喬治·麥凱、迪恩-查爾斯·查普曼、馬克·史壯、安德魯·史考特、理察·麥登、克萊兒·杜伯克（Claire Duburcq）、柯林·佛斯及班奈狄克·康柏拜區。\n",
      "\n",
      "本片的部份內容是根據曼德斯的祖父阿爾佛雷德·曼德斯（英語：Alfred Mendes）所向他透露[7]。《1917》由環球影業定於2019年12月25日在美國上映，而英國則於2020年1月10日上映。\n",
      "\n",
      "《1917》在第77屆金球獎上獲得多項提名，並最終斬獲最佳戲劇類影片和最佳導演。在第73屆英國電影學院獎上提名了9個獎項。成功奪下7個獎項包括最佳電影，最佳英國電影和最佳導演。在第92屆奧斯卡金像獎獲得10項提名。\n",
      "\n",
      "1917年4月，第一次世界大戰激戰正酣。在西方戰線，德軍撤出法國北部的一個戰略據點。英軍士兵史科菲爾德和布萊克到艾林摩爾將軍處聽取任務簡報：據空中偵察部門（英語：Aerial reconnaissance in World War I）情報，德軍並未撤離，而是戰略性地後撤到新修建的興登堡防線，準備利用大砲對英軍展開壓倒性襲擊。由於戰地電話（英語：Field telephone）被切斷，史科菲爾德和布萊克需要人手將要求中斷進攻計劃的信件轉交給德文郡軍團（英語：Devonshire Regiment）第2營，否則展開貿然進攻會造成1600人喪生，布萊克的哥哥約瑟夫就在他們當中。\n",
      "\n",
      "史科菲爾德和布萊克穿越無人區，進入到已經荒廢的德軍的戰壕。在戰壕的地道中，一隻老鼠碰到了絆線，造成埋藏好的炸藥爆炸。爆炸造成洞穴塌方，土方石掩埋了史科菲爾德。幸虧布萊克徒手將他挖出來，把他拉出地窖，他才逃過一劫。之後，他們來到一處廢棄的農舍，目擊到兩架英軍與一架德軍飛機在纏鬥，德軍飛機被擊落後，正好砸中了農舍。兩人一起將飛行員從著火的駕駛艙中拉起出來後，史科菲爾德說應該一槍打死他（英語：Coup de grâce），但布萊克要他去給飛行員打水喝。史科菲爾德拿著鋼盔去附近的水井打水，轉身就看到飛行員用刀刺傷布萊克，史科菲爾德緊要關頭開槍擊殺飛行員。受傷的布萊克奄奄一息，囑託史科菲爾德要把任務完成。\n",
      "\n",
      "之後，路過的英軍部隊將史科菲爾德接走，車隊在一座被炸塌到水溝中的鐵橋旁停下，這就是埃庫斯特聖曼村。史科菲爾德下車，踩著橋樑露出水面的鋼架，此時埋伏在橋附近的德軍狙擊手看到他，接連開了幾槍。史科菲爾德艱難渡河後，躲到一堵墻後，邊躲邊開槍，最後衝入了樓內開槍打死了狙擊手，不過也被流彈所傷。\n",
      "\n",
      "史科菲爾德醒來後已經是晚上，德軍再度進犯村子。冒著一名德軍士兵的追擊，史科菲爾德無意中躲進了一處地窖，遇到了一名法國女性和她路上撿到的嬰兒。他把身上所有的食品罐頭，還有之前在農場上裝的牛奶給了母女兩，她則給他療傷。之後，史科菲爾德繼續趕路，途中兩次被德軍士兵發現。第一次他把對方給勒死，另外一次遇到了醉酒的德軍，只是躲了過去。之後又有一名士兵追他，他情急之下跳入河中。\n",
      "\n",
      "史科菲爾德找到二營已經是早上，離他們發起進攻已經不遠了。由於沒能阻止二營發起首輪攻勢，史科菲爾德在戰壕中飛奔，身旁的英國步兵敵不過德軍的大砲，倒在地上。最終，他找到了二營指揮官麥肯齊上校，麥肯齊讀完指令停止進攻。\n",
      "\n",
      "之後，史科菲爾德找到了布萊克的哥哥約瑟夫，約瑟夫參與了第一波進攻，但是沒有受傷，正在負責指揮傷員的搬運。史科菲爾德向他告知他的弟弟死訊，約瑟夫聽罷非常震驚，不過也感謝史科菲爾德的努力。史科菲爾德說想要寫信告訴布萊克母親她兒子的英勇事跡，約瑟夫同意了。史科菲爾德走進附近的一棵樹，坐在樹下休息。他拿出隨身攜帶的日記本，拿出了夾在裡面的照片，照片上是他的兩個小女兒和妻子，他們正等他回家。\n",
      "\n",
      "2018年6月，安培林有限公司（英語：Amblin Partners）宣布將收購由山姆·曼德斯執導並與克莉絲蒂·威爾森-克倫斯（英語：Krysty Wilson-Cairns）共同撰寫劇本的一戰電影《1917》[8]。2018年9月，據報導，湯姆·荷蘭德正在會談出演該片[9]。10月，據報導，羅傑·狄金斯將再度與曼德斯合作，以擔任《1917》的攝影指導[10]。喬治·麥凱（英語：George MacKay (actor)）和迪恩-查爾斯·查普曼在同月加入出演會談[11]。湯瑪斯·紐曼於2019年3月被聘來為該片的配樂作曲[12]。同於2019年3月，班奈狄克·康柏拜區、柯林·佛斯、馬克·史壯、理察·麥登、安德魯·史考特、丹尼爾·梅斯（英語：Daniel Mays）、艾德里恩·史科柏洛（英語：Adrian Scarborough）、傑米·帕克（英語：Jamie Parker）、納布罕·里茲萬（Nabhaan Rizwan）及克萊兒·杜伯克（Claire Duburcq）加入了電影的演出陣容[13]。\n",
      "\n",
      "主要拍攝於2019年4月1日開始，一直持續到2019年6月，取景地包括威爾特郡、格倫福格地（英語：Hankley Common）和蘇格蘭加文，以及謝珀頓製片廠（英語：Shepperton Studios）[14][15][16][17]。保護主義者計劃於劇組在索爾茲伯里平原（英語：Salisbury Plain）拍攝時表示關注，他們認為製作作業可能會擾亂該地區潛在未被發現的古蹟，因此他們在劇組拍攝前對該領地進行調查[18][19]。\n",
      "\n",
      "2019年6月，劇組人員在蒂斯河的蒂斯代爾（英語：Teesdale）四處放置的零散屍體（假肢）驚動到了其他遊客，為此在附近設置了公告[20]。\n",
      "\n",
      "該片使用了長鏡頭手法來拍攝，並精心架設了用於移動的攝影機鏡頭，以達到一次性拍攝（英語：One shot (film)）的效果[21][22]。\n",
      "\n",
      "《1917》在美國由環球影業定於2019年12月25日上映，並由eOne（英語：Entertainment One）排定於2020年1月10日在英國上映[23]。\n",
      "\n",
      "該片在爛番茄網站上根據391篇評論而持有89%的新鮮度，平均得分8.38／10，觀眾投票獲得88%的分數，平均得分為4.41／5[24]。而在Metacritic上則獲得78分的「普遍好評」[25]。\n",
      "\n"
     ]
    }
   ],
   "source": [
    "# 模擬封包的標頭\n",
    "headers = {\n",
    "    'authority': 'zh.wikipedia.org',\n",
    "    'method': 'GET',\n",
    "    'path': '/wiki/' + root_keyword_link,\n",
    "    'scheme': 'https',\n",
    "    'accept': 'text/html,application/xhtml+xml,application/xml;q=0.9,image/webp,image/apng,*/*;q=0.8,application/signed-exchange;v=b3',\n",
    "    'accept-encoding': 'gzip, deflate, br',\n",
    "    'accept-language': 'zh-TW,zh;q=0.9,en-US;q=0.8,en;q=0.7,zh-CN;q=0.6',\n",
    "    'cookie': 'GeoIP=TW:TPE:Taipei:25.05:121.53:v4; TBLkisOn=0; mwPhp7Seed=8b8; WMF-Last-Access-Global=04-Jun-2019; WMF-Last-Access=04-Jun-2019',\n",
    "    'dnt': '1',\n",
    "    #'if-modified-since': 'Tue, 04 Jun 2019 12:03:22 GMT',\n",
    "    'referer': 'https://zh.wikipedia.org/wiki/Wikipedia:%E9%A6%96%E9%A1%B5',\n",
    "    'upgrade-insecure-requests': '1',\n",
    "    'user-agent': 'Mozilla/5.0 (Windows NT 10.0; Win64; x64) AppleWebKit/537.36 (KHTML, like Gecko) Chrome/74.0.3729.169 Safari/537.36'\n",
    "}    \n",
    "\n",
    "url = 'https://zh.wikipedia.org' + root_keyword_link  # 組合關鍵字查詢URL\n",
    "resp = requests.get(url, headers=headers)\n",
    "resp.encoding = 'utf-8'\n",
    "\n",
    "html = BeautifulSoup(resp.text, \"lxml\")\n",
    "content = html.find(name='div', attrs={'id':'mw-content-text'}).find_all(name='p')\n",
    "\n",
    "#\n",
    "# 解析回傳資料，並萃取文章內容\n",
    "#\n",
    "for paragraph in content:\n",
    "    print(paragraph.get_text())\n"
   ]
  },
  {
   "cell_type": "markdown",
   "metadata": {},
   "source": [
    "### 範例2：從爬取的文章內容中，擷取出有外部連結的關鍵字。這些關鍵字在文章中是以藍色字體顯示，會連到外部的網頁，並解釋其內容。"
   ]
  },
  {
   "cell_type": "code",
   "execution_count": 14,
   "metadata": {},
   "outputs": [
    {
     "name": "stdout",
     "output_type": "stream",
     "text": [
      "外部連結: [2019年] /wiki/2019%E5%B9%B4%E9%9B%BB%E5%BD%B1\n",
      "外部連結: [英國] /wiki/%E8%8B%B1%E5%9C%8B\n",
      "外部連結: [美國] /wiki/%E7%BE%8E%E5%9C%8B\n",
      "外部連結: [戰爭片] /wiki/%E6%88%B0%E7%88%AD%E7%89%87\n",
      "外部連結: [山姆·曼德斯] /wiki/%E5%B1%B1%E5%A7%86%C2%B7%E6%9B%BC%E5%BE%B7%E6%96%AF\n",
      "外部連結: [第一次世界大戰] /wiki/%E7%AC%AC%E4%B8%80%E6%AC%A1%E4%B8%96%E7%95%8C%E5%A4%A7%E6%88%B0\n",
      "外部連結: [喬治·麥凱] /wiki/%E5%96%AC%E6%B2%BB%C2%B7%E9%BA%A5%E5%87%B1\n",
      "外部連結: [迪恩-查爾斯·查普曼] /wiki/%E8%BF%AA%E6%81%A9-%E6%9F%A5%E7%88%BE%E6%96%AF%C2%B7%E6%9F%A5%E6%99%AE%E6%9B%BC\n",
      "外部連結: [馬克·史壯] /wiki/%E9%A6%AC%E5%85%8B%C2%B7%E5%8F%B2%E5%A3%AF\n",
      "外部連結: [安德魯·史考特] /wiki/%E5%AE%89%E5%BE%B7%E9%AD%AF%C2%B7%E5%8F%B2%E8%80%83%E7%89%B9\n",
      "外部連結: [理察·麥登] /wiki/%E7%90%86%E5%AF%9F%C2%B7%E9%BA%A5%E7%99%BB\n",
      "外部連結: [柯林·佛斯] /wiki/%E6%9F%AF%E6%9E%97%C2%B7%E4%BD%9B%E6%96%AF\n",
      "外部連結: [班奈狄克·康柏拜區] /wiki/%E7%8F%AD%E5%A5%88%E7%8B%84%E5%85%8B%C2%B7%E5%BA%B7%E6%9F%8F%E6%8B%9C%E5%8D%80\n",
      "外部連結: [環球影業] /wiki/%E7%92%B0%E7%90%83%E5%BD%B1%E6%A5%AD\n",
      "外部連結: [第77屆金球獎] /wiki/%E7%AC%AC77%E5%B1%86%E9%87%91%E7%90%83%E7%8D%8E\n",
      "外部連結: [最佳戲劇類影片] /wiki/%E9%87%91%E7%90%83%E7%8D%8E%E6%9C%80%E4%BD%B3%E6%88%B2%E5%8A%87%E9%A1%9E%E5%BD%B1%E7%89%87\n",
      "外部連結: [最佳導演] /wiki/%E9%87%91%E7%90%83%E7%8D%8E%E6%9C%80%E4%BD%B3%E5%B0%8E%E6%BC%94\n",
      "外部連結: [第73屆英國電影學院獎] /wiki/%E7%AC%AC73%E5%B1%86%E8%8B%B1%E5%9C%8B%E9%9B%BB%E5%BD%B1%E5%AD%B8%E9%99%A2%E7%8D%8E\n",
      "外部連結: [第92屆奧斯卡金像獎] /wiki/%E7%AC%AC92%E5%B1%86%E5%A5%A7%E6%96%AF%E5%8D%A1%E9%87%91%E5%83%8F%E7%8D%8E\n",
      "外部連結: [第一次世界大戰] /wiki/%E7%AC%AC%E4%B8%80%E6%AC%A1%E4%B8%96%E7%95%8C%E5%A4%A7%E6%88%B0\n",
      "外部連結: [西方戰線] /wiki/%E8%A5%BF%E6%96%B9%E6%88%B0%E7%B7%9A_(%E7%AC%AC%E4%B8%80%E6%AC%A1%E4%B8%96%E7%95%8C%E5%A4%A7%E6%88%B0)\n",
      "外部連結: [興登堡防線] /wiki/%E5%85%B4%E7%99%BB%E5%A0%A1%E9%98%B2%E7%BA%BF\n",
      "外部連結: [大砲] /wiki/%E5%A4%A7%E7%A0%B2\n",
      "外部連結: [無人區] /wiki/%E7%84%A1%E4%BA%BA%E5%8D%80_(%E4%B8%80%E6%88%B0)\n",
      "外部連結: [纏鬥] /wiki/%E7%BA%8F%E9%AC%A5\n",
      "外部連結: [埃庫斯特聖曼] /wiki/%E5%9F%83%E5%BA%93%E6%96%AF%E7%89%B9%E5%9C%A3%E6%9B%BC\n",
      "外部連結: [醉酒] /wiki/%E9%85%92%E7%B2%BE%E4%B8%AD%E6%AF%92\n",
      "外部連結: [山姆·曼德斯] /wiki/%E5%B1%B1%E5%A7%86%C2%B7%E6%9B%BC%E5%BE%B7%E6%96%AF\n",
      "外部連結: [一戰] /wiki/%E4%B8%80%E6%88%B0\n",
      "外部連結: [湯姆·荷蘭德] /wiki/%E6%B1%A4%E5%A7%86%C2%B7%E8%B5%AB%E5%85%B0%E5%BE%B7\n",
      "外部連結: [羅傑·狄金斯] /wiki/%E7%BD%97%E6%9D%B0%C2%B7%E7%8B%84%E9%87%91%E6%96%AF\n",
      "外部連結: [迪恩-查爾斯·查普曼] /wiki/%E8%BF%AA%E6%81%A9-%E6%9F%A5%E7%88%BE%E6%96%AF%C2%B7%E6%9F%A5%E6%99%AE%E6%9B%BC\n",
      "外部連結: [湯瑪斯·紐曼] /wiki/%E6%B9%AF%E7%91%AA%E6%96%AF%C2%B7%E7%B4%90%E6%9B%BC\n",
      "外部連結: [班奈狄克·康柏拜區] /wiki/%E7%8F%AD%E5%A5%88%E7%8B%84%E5%85%8B%C2%B7%E5%BA%B7%E6%9F%8F%E6%8B%9C%E5%8D%80\n",
      "外部連結: [柯林·佛斯] /wiki/%E6%9F%AF%E6%9E%97%C2%B7%E4%BD%9B%E6%96%AF\n",
      "外部連結: [馬克·史壯] /wiki/%E9%A6%AC%E5%85%8B%C2%B7%E5%8F%B2%E5%A3%AF\n",
      "外部連結: [理察·麥登] /wiki/%E7%90%86%E5%AF%9F%C2%B7%E9%BA%A5%E7%99%BB\n",
      "外部連結: [安德魯·史考特] /wiki/%E5%AE%89%E5%BE%B7%E9%AD%AF%C2%B7%E5%8F%B2%E8%80%83%E7%89%B9\n",
      "外部連結: [主要拍攝] /wiki/%E4%B8%BB%E8%A6%81%E6%8B%8D%E6%94%9D\n",
      "外部連結: [威爾特郡] /wiki/%E5%A8%81%E7%88%BE%E7%89%B9%E9%83%A1\n",
      "外部連結: [蘇格蘭] /wiki/%E8%98%87%E6%A0%BC%E8%98%AD\n",
      "外部連結: [加文] /wiki/%E5%8A%A0%E6%96%87\n",
      "外部連結: [蒂斯河] /wiki/%E8%92%82%E6%96%AF%E6%B2%B3\n",
      "外部連結: [長鏡頭] /wiki/%E9%95%B7%E9%8F%A1%E9%A0%AD\n",
      "外部連結: [環球影業] /wiki/%E7%92%B0%E7%90%83%E5%BD%B1%E6%A5%AD\n",
      "外部連結: [爛番茄] /wiki/%E7%88%9B%E7%95%AA%E8%8C%84\n",
      "外部連結: [Metacritic] /wiki/Metacritic\n"
     ]
    }
   ],
   "source": [
    "for ext_link in content:\n",
    "    a_tag = ext_link.find_all('a', href=re.compile(\"^(/wiki/)((?!;)\\S)*$\"))\n",
    "    if len(a_tag) > 0:\n",
    "        for link_string in a_tag:\n",
    "            a_link = link_string[\"href\"]       # 外部連結的網址\n",
    "            a_keyword = link_string.get_text()  # 外部連結的中文名稱\n",
    "            print(\"外部連結: [%s] %s\" % (a_keyword, a_link))"
   ]
  },
  {
   "cell_type": "markdown",
   "metadata": {},
   "source": [
    "## 作業：接下來定義一個爬蟲函數，這個函數的主要工作為：\n",
    "### (1) 爬取當前關鍵字的解釋，並存入檔案(因為文章內容太多會佔滿整個頁面，所以存程檔案，方便後續檢視)\n",
    "### (2) 萃取出當前關鍵字所引用的外部連結，當作新的查詢關鍵字\n",
    "### (3) 把第(2)擷取到的關鍵字當作新的關鍵字，回到第(1)步，爬取新的關鍵字解釋。"
   ]
  },
  {
   "cell_type": "code",
   "execution_count": 34,
   "metadata": {},
   "outputs": [],
   "source": [
    "def WikiArticle(key_word_link, key_word, recursive):\n",
    "    \n",
    "    if (recursive <= max_recursive_depth):\n",
    "        print(\"遞迴層[%d] - %s (%s)\" % (recursive, key_word_link, key_word))\n",
    "        \n",
    "        # 模擬封包的標頭\n",
    "        headers = {\n",
    "            'authority': 'zh.wikipedia.org',\n",
    "            'method': 'GET',\n",
    "            'path': '/wiki/' + key_word_link,\n",
    "            'scheme': 'https',\n",
    "            'accept': 'text/html,application/xhtml+xml,application/xml;q=0.9,image/webp,image/apng,*/*;q=0.8,application/signed-exchange;v=b3',\n",
    "            'accept-encoding': 'gzip, deflate, br',\n",
    "            'accept-language': 'zh-TW,zh;q=0.9,en-US;q=0.8,en;q=0.7,zh-CN;q=0.6',\n",
    "            'cookie': 'GeoIP=TW:TPE:Taipei:25.05:121.53:v4; TBLkisOn=0; mwPhp7Seed=8b8; WMF-Last-Access-Global=04-Jun-2019; WMF-Last-Access=04-Jun-2019',\n",
    "            'dnt': '1',\n",
    "            #'if-modified-since': 'Tue, 04 Jun 2019 12:03:22 GMT',\n",
    "            'referer': 'https://zh.wikipedia.org/wiki/Wikipedia:%E9%A6%96%E9%A1%B5',\n",
    "            'upgrade-insecure-requests': '1',\n",
    "            'user-agent': 'Mozilla/5.0 (Windows NT 10.0; Win64; x64) AppleWebKit/537.36 (KHTML, like Gecko) Chrome/74.0.3729.169 Safari/537.36'\n",
    "        }    \n",
    "\n",
    "        url = 'https://zh.wikipedia.org' + key_word_link  # 組合關鍵字查詢URL\n",
    "        resp = requests.get(url, headers=headers)\n",
    "        resp.encoding = 'utf-8'\n",
    "\n",
    "        html = BeautifulSoup(resp.text, \"lxml\")\n",
    "        content = html.find(name='div', attrs={'id':'mw-content-text'}).find_all(name='p')\n",
    "        \n",
    "        #\n",
    "        # Part 1: 請參考範例1，爬取當前關鍵字的文章內容。\n",
    "        #         因為內容太多，我們把它寫入檔案，並以關鍵字作為檔案名稱，以便稍後查閱內容。\n",
    "        #         請先建立一個名為\"WikiArticle\"的資料夾，爬取到的文章內容會放在這個資料夾底下。\n",
    "        #\n",
    "        output_dir='D:\\\\爬蟲\\\\D16\\\\WikiArticle'\n",
    "        if not os.path.exists(output_dir):\n",
    "            os.makedirs(output_dir)\n",
    "        file_path =output_dir+'\\\\'+key_word+'.txt'\n",
    "        with open( file_path,'a',encoding = 'utf8') as file:\n",
    "            for paragraph in content:\n",
    "                #print(paragraph.get_text())\n",
    "                file.write(str(paragraph.get_text())+'\\n')        \n",
    "        \n",
    "        #\n",
    "        # Part 2: 請參考範例2，萃取出本篇文章中所延伸引用的外部連結，並儲存在external_link_dict\n",
    "        #\n",
    "        external_link_dict = dict({})\n",
    "        for ext_link in content:\n",
    "            a_tag = ext_link.find_all('a', href=re.compile(\"^(/wiki/)((?!;)\\S)*$\"))\n",
    "            if len(a_tag) > 0:\n",
    "                for link_string in a_tag:\n",
    "                    a_link = link_string[\"href\"]       # 外部連結的網址\n",
    "                    a_keyword = link_string.get_text()  # 外部連結的中文名稱\n",
    "                    external_link_dict[a_keyword]= a_link\n",
    "                    \n",
    "        #\n",
    "        # Part 3: 將Part 2所收集的外部連結，當作新的關鍵字，繼續迭代深入爬蟲\n",
    "        #\n",
    "        if (len(external_link_dict) > 0):\n",
    "            \n",
    "            recursive = recursive + 1  # 遞迴深度加1\n",
    "            \n",
    "            for k, v in external_link_dict.items():\n",
    "                WikiArticle(v, k, recursive)  # 再次呼叫同樣的函數，執行同樣的流程\n",
    "                "
   ]
  },
  {
   "cell_type": "markdown",
   "metadata": {},
   "source": [
    "### 執行前個步驟定義好的爬蟲主程式"
   ]
  },
  {
   "cell_type": "code",
   "execution_count": 36,
   "metadata": {},
   "outputs": [
    {
     "name": "stdout",
     "output_type": "stream",
     "text": [
      "遞迴層[0] - /wiki/1917_(%E9%9B%BB%E5%BD%B1) (1917_(電影))\n",
      "遞迴層[1] - /wiki/2019%E5%B9%B4%E9%9B%BB%E5%BD%B1 (2019年)\n",
      "遞迴層[1] - /wiki/%E8%8B%B1%E5%9C%8B (英國)\n",
      "遞迴層[1] - /wiki/%E7%BE%8E%E5%9C%8B (美國)\n",
      "遞迴層[1] - /wiki/%E6%88%B0%E7%88%AD%E7%89%87 (戰爭片)\n",
      "遞迴層[1] - /wiki/%E5%B1%B1%E5%A7%86%C2%B7%E6%9B%BC%E5%BE%B7%E6%96%AF (山姆·曼德斯)\n",
      "遞迴層[1] - /wiki/%E7%AC%AC%E4%B8%80%E6%AC%A1%E4%B8%96%E7%95%8C%E5%A4%A7%E6%88%B0 (第一次世界大戰)\n",
      "遞迴層[1] - /wiki/%E5%96%AC%E6%B2%BB%C2%B7%E9%BA%A5%E5%87%B1 (喬治·麥凱)\n",
      "遞迴層[1] - /wiki/%E8%BF%AA%E6%81%A9-%E6%9F%A5%E7%88%BE%E6%96%AF%C2%B7%E6%9F%A5%E6%99%AE%E6%9B%BC (迪恩-查爾斯·查普曼)\n",
      "遞迴層[1] - /wiki/%E9%A6%AC%E5%85%8B%C2%B7%E5%8F%B2%E5%A3%AF (馬克·史壯)\n",
      "遞迴層[1] - /wiki/%E5%AE%89%E5%BE%B7%E9%AD%AF%C2%B7%E5%8F%B2%E8%80%83%E7%89%B9 (安德魯·史考特)\n",
      "遞迴層[1] - /wiki/%E7%90%86%E5%AF%9F%C2%B7%E9%BA%A5%E7%99%BB (理察·麥登)\n",
      "遞迴層[1] - /wiki/%E6%9F%AF%E6%9E%97%C2%B7%E4%BD%9B%E6%96%AF (柯林·佛斯)\n",
      "遞迴層[1] - /wiki/%E7%8F%AD%E5%A5%88%E7%8B%84%E5%85%8B%C2%B7%E5%BA%B7%E6%9F%8F%E6%8B%9C%E5%8D%80 (班奈狄克·康柏拜區)\n",
      "遞迴層[1] - /wiki/%E7%92%B0%E7%90%83%E5%BD%B1%E6%A5%AD (環球影業)\n",
      "遞迴層[1] - /wiki/%E7%AC%AC77%E5%B1%86%E9%87%91%E7%90%83%E7%8D%8E (第77屆金球獎)\n",
      "遞迴層[1] - /wiki/%E9%87%91%E7%90%83%E7%8D%8E%E6%9C%80%E4%BD%B3%E6%88%B2%E5%8A%87%E9%A1%9E%E5%BD%B1%E7%89%87 (最佳戲劇類影片)\n",
      "遞迴層[1] - /wiki/%E9%87%91%E7%90%83%E7%8D%8E%E6%9C%80%E4%BD%B3%E5%B0%8E%E6%BC%94 (最佳導演)\n",
      "遞迴層[1] - /wiki/%E7%AC%AC73%E5%B1%86%E8%8B%B1%E5%9C%8B%E9%9B%BB%E5%BD%B1%E5%AD%B8%E9%99%A2%E7%8D%8E (第73屆英國電影學院獎)\n",
      "遞迴層[1] - /wiki/%E7%AC%AC92%E5%B1%86%E5%A5%A7%E6%96%AF%E5%8D%A1%E9%87%91%E5%83%8F%E7%8D%8E (第92屆奧斯卡金像獎)\n",
      "遞迴層[1] - /wiki/%E8%A5%BF%E6%96%B9%E6%88%B0%E7%B7%9A_(%E7%AC%AC%E4%B8%80%E6%AC%A1%E4%B8%96%E7%95%8C%E5%A4%A7%E6%88%B0) (西方戰線)\n",
      "遞迴層[1] - /wiki/%E5%85%B4%E7%99%BB%E5%A0%A1%E9%98%B2%E7%BA%BF (興登堡防線)\n",
      "遞迴層[1] - /wiki/%E5%A4%A7%E7%A0%B2 (大砲)\n",
      "遞迴層[1] - /wiki/%E7%84%A1%E4%BA%BA%E5%8D%80_(%E4%B8%80%E6%88%B0) (無人區)\n",
      "遞迴層[1] - /wiki/%E7%BA%8F%E9%AC%A5 (纏鬥)\n",
      "遞迴層[1] - /wiki/%E5%9F%83%E5%BA%93%E6%96%AF%E7%89%B9%E5%9C%A3%E6%9B%BC (埃庫斯特聖曼)\n",
      "遞迴層[1] - /wiki/%E9%85%92%E7%B2%BE%E4%B8%AD%E6%AF%92 (醉酒)\n",
      "遞迴層[1] - /wiki/%E4%B8%80%E6%88%B0 (一戰)\n",
      "遞迴層[1] - /wiki/%E6%B1%A4%E5%A7%86%C2%B7%E8%B5%AB%E5%85%B0%E5%BE%B7 (湯姆·荷蘭德)\n",
      "遞迴層[1] - /wiki/%E7%BD%97%E6%9D%B0%C2%B7%E7%8B%84%E9%87%91%E6%96%AF (羅傑·狄金斯)\n",
      "遞迴層[1] - /wiki/%E6%B9%AF%E7%91%AA%E6%96%AF%C2%B7%E7%B4%90%E6%9B%BC (湯瑪斯·紐曼)\n",
      "遞迴層[1] - /wiki/%E4%B8%BB%E8%A6%81%E6%8B%8D%E6%94%9D (主要拍攝)\n",
      "遞迴層[1] - /wiki/%E5%A8%81%E7%88%BE%E7%89%B9%E9%83%A1 (威爾特郡)\n",
      "遞迴層[1] - /wiki/%E8%98%87%E6%A0%BC%E8%98%AD (蘇格蘭)\n",
      "遞迴層[1] - /wiki/%E5%8A%A0%E6%96%87 (加文)\n",
      "遞迴層[1] - /wiki/%E8%92%82%E6%96%AF%E6%B2%B3 (蒂斯河)\n",
      "遞迴層[1] - /wiki/%E9%95%B7%E9%8F%A1%E9%A0%AD (長鏡頭)\n",
      "遞迴層[1] - /wiki/%E7%88%9B%E7%95%AA%E8%8C%84 (爛番茄)\n",
      "遞迴層[1] - /wiki/Metacritic (Metacritic)\n"
     ]
    }
   ],
   "source": [
    "# 定義爬取的遞迴深度。深度不要訂太深，否則會爬很久。\n",
    "max_recursive_depth = 1\n",
    "\n",
    "WikiArticle(root_keyword_link, input_keyword, 0)"
   ]
  },
  {
   "cell_type": "code",
   "execution_count": null,
   "metadata": {},
   "outputs": [],
   "source": []
  }
 ],
 "metadata": {
  "kernelspec": {
   "display_name": "Python 3",
   "language": "python",
   "name": "python3"
  },
  "language_info": {
   "codemirror_mode": {
    "name": "ipython",
    "version": 3
   },
   "file_extension": ".py",
   "mimetype": "text/x-python",
   "name": "python",
   "nbconvert_exporter": "python",
   "pygments_lexer": "ipython3",
   "version": "3.7.4"
  }
 },
 "nbformat": 4,
 "nbformat_minor": 2
}
