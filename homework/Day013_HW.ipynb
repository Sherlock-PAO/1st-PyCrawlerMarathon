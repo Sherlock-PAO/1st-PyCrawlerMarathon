{
 "cells": [
  {
   "cell_type": "markdown",
   "metadata": {},
   "source": [
    "# PTT 網路爬蟲實作練習\n",
    "\n",
    "\n",
    "* 能夠利用 Request + BeatifulSour 撰寫爬蟲，並存放到合適的資料結構\n"
   ]
  },
  {
   "cell_type": "markdown",
   "metadata": {},
   "source": [
    "## 作業目標\n",
    "\n",
    "根據範例 ，完成以下問題：\n",
    "\n",
    "* ① 印出最新文章的「作者」「標題」「時間」\n",
    "* ② 印出第一頁所有文章的「作者」「標題」「時間」\n"
   ]
  },
  {
   "cell_type": "markdown",
   "metadata": {},
   "source": [
    "### ① 印出最新文章的「作者」「標題」「時間」"
   ]
  },
  {
   "cell_type": "code",
   "execution_count": 64,
   "metadata": {},
   "outputs": [
    {
     "name": "stdout",
     "output_type": "stream",
     "text": [
      "[討論] 好久不見Iguodala\n",
      "作者: liyu0329 (小豐子)\n",
      "時間: Fri Jan 31 19:42:18 2020\n"
     ]
    }
   ],
   "source": [
    "import requests\n",
    "from bs4 import BeautifulSoup\n",
    "\n",
    "url = 'https://www.ptt.cc/bbs/NBA/index.html'\n",
    "r = requests.get(url)\n",
    "soup = BeautifulSoup(r.text,'html5lib')\n",
    "#print(soup.find_all(class_='r-ent')[0])\n",
    "latest_article=soup.find_all(class_='title')[0]\n",
    "print(latest_article.text.replace('\\t','').replace('\\n',''))\n",
    "l =  BeautifulSoup(requests.get('https://www.ptt.cc'+latest_article.find('a')['href']).text,'html5lib')\n",
    "print('作者:',l.find_all(class_='article-meta-value')[0].text)\n",
    "print('時間:',l.find_all(class_='article-meta-value')[-1].text)"
   ]
  },
  {
   "cell_type": "markdown",
   "metadata": {},
   "source": [
    "### ② 印出第一頁所有文章的「作者」「標題」「時間」"
   ]
  },
  {
   "cell_type": "code",
   "execution_count": 65,
   "metadata": {},
   "outputs": [
    {
     "name": "stdout",
     "output_type": "stream",
     "text": [
      "NBA版爬蟲開始\n",
      "*********************************************\n",
      "[討論] 好久不見Iguodala\n",
      "作者: liyu0329 (小豐子)\n",
      "時間: Fri Jan 31 19:42:18 2020\n",
      "\n",
      "Re: [外絮] 聯盟準備公布2020-21薪資及奢侈稅預測\n",
      "作者: TheoEpstein (Cubs)\n",
      "時間: Fri Jan 31 20:18:19 2020\n",
      "\n",
      "[情報] NBA Standings (Jan. 31, 2020)\n",
      "作者: a78998042a (Benjimin)\n",
      "時間: Fri Jan 31 20:28:57 2020\n",
      "\n",
      "[專欄] 傳奇巨星布萊恩驟逝 NBA名將憶往悲痛難耐\n",
      "作者: hvariables (Speculative Male)\n",
      "時間: Fri Jan 31 20:57:10 2020\n",
      "\n",
      "[情報] ★今日排名(2020.01.31)★\n",
      "\n",
      "[花邊] 曾被Kobe嗆不配打NBA　前湖人球員悔無法\n",
      "作者: fukawa947 (交大薛之謙)\n",
      "時間: Fri Jan 31 21:18:30 2020\n",
      "\n",
      "[情報] 快艇隊計畫本季都不再擋Kobe的湖人隊球衣\n",
      "作者: thnlkj0665 (灰色地帶)\n",
      "時間: Fri Jan 31 22:28:27 2020\n",
      "\n",
      "[情報] SEASON Schedule 賽程 February 19–20\n",
      "作者: Acetoxy (阿斯)\n",
      "時間: Fri Jan 31 22:36:43 2020\n",
      "\n",
      "[花邊] 將吹羊帶入全明星?VC:Reddish是下個目標\n",
      "作者: manuginobii (做愛校 果真累人)\n",
      "時間: Fri Jan 31 23:30:07 2020\n",
      "\n",
      "[公告] 板規v6.8\n",
      "\n",
      "[公告] 樂透取消及未來不再開啟樂透\n",
      "作者: Vedan (味丹)\n",
      "時間: Mon Jun 24 15:08:02 2019\n",
      "\n",
      "[公告] 版主上任相關事項 \n",
      "作者: qazwsx879345 (Rajon Rondo)\n",
      "時間: Fri Oct 25 10:44:03 2019\n",
      "\n",
      "[情報] SEASON Schedule 賽程 January 19–20\n",
      "作者: Acetoxy (阿斯)\n",
      "時間: Fri Jan  3 01:37:35 2020\n",
      "\n",
      "[公告] 難過區\n",
      "作者: Vedan (味丹)\n",
      "時間: Mon Jan 27 04:08:23 2020\n",
      "\n",
      "*********************************************\n",
      "爬完了，呼~\n"
     ]
    }
   ],
   "source": [
    "print('NBA版爬蟲開始')\n",
    "print('*********************************************')\n",
    "for d in soup.find_all(class_='title'):\n",
    "    print(d.text.replace('\\t', '').replace('\\n', ''))\n",
    "    try:\n",
    "        a = BeautifulSoup(requests.get('https://www.ptt.cc'+d.find('a')['href']).text, \"html5lib\")\n",
    "        print('作者:',a.find_all(class_='article-meta-value')[0].text)\n",
    "        print('時間:',a.find_all(class_='article-meta-value')[-1].text)\n",
    "        print()\n",
    "    except:\n",
    "        print()\n",
    "        continue\n",
    "print('*********************************************')\n",
    "print('爬完了，呼~')"
   ]
  },
  {
   "cell_type": "markdown",
   "metadata": {},
   "source": [
    "### ③ 試著爬爬看其他版的文章"
   ]
  },
  {
   "cell_type": "code",
   "execution_count": 66,
   "metadata": {},
   "outputs": [
    {
     "name": "stdout",
     "output_type": "stream",
     "text": [
      "表特版爬蟲開始\n",
      "*********************************************\n",
      "[正妹] 高田秋\n",
      "作者: ring1002 (RING)\n",
      "時間: Fri Jan 31 16:31:11 2020\n",
      "\n",
      "[正妹] 祭品圖\n",
      "作者: KKKKKvs333 (國內333 國外5連K)\n",
      "時間: Fri Jan 31 16:57:57 2020\n",
      "\n",
      "[廣告] 拜晚年\n",
      "作者: pttjoa (讓我想想)\n",
      "時間: Fri Jan 31 18:05:45 2020\n",
      "\n",
      "[正妹] 左還是右\n",
      "作者: iceman5566 (iceman5566)\n",
      "時間: Fri Jan 31 19:23:03 2020\n",
      "\n",
      "[正妹] 我的乾姊姊 生日快樂\n",
      "作者: chibmw (chi)\n",
      "時間: Fri Jan 31 19:31:05 2020\n",
      "\n",
      "[正妹] 幻想的學妹\n",
      "作者: ryanworld (涼粉)\n",
      "時間: Fri Jan 31 19:47:36 2020\n",
      "\n",
      "[正妹] (G)I-DLE 曺薇娟 Miyeon\n",
      "作者: abellea85209 (阿比利亞)\n",
      "時間: Fri Jan 31 20:27:43 2020\n",
      "\n",
      "在武漢認識的東北小姐姐\n",
      "作者: paul1009 (安安靜靜)\n",
      "時間: Fri Jan 31 20:37:51 2020\n",
      "\n",
      "[新聞] 泰國正妹遊平溪掉錢包 警靠IG找到人\n",
      "作者: charles0939 (charles0939)\n",
      "時間: Fri Jan 31 20:58:03 2020\n",
      "\n",
      "[正妹] 佐倉綾音 可愛\n",
      "作者: CavendishJr (卡文迪許jr)\n",
      "時間: Fri Jan 31 21:34:12 2020\n",
      "\n",
      "[正妹] 回眸\n",
      "作者: d86249 (金羊)\n",
      "時間: Fri Jan 31 21:51:27 2020\n",
      "\n",
      "[正妹] 奈良岡にこ \n",
      "作者: makilaifan (TS1989)\n",
      "時間: Fri Jan 31 23:08:44 2020\n",
      "\n",
      "[正妹] 這眼神\n",
      "作者: AWAOUO (這4分身大人)\n",
      "時間: Fri Jan 31 23:17:12 2020\n",
      "\n",
      "[公告] 不願上表特 ＆ 優文推薦 ＆ 檢舉建議專區\n",
      "作者: hateOnas (△怕老婆△怕老婆)\n",
      "時間: Tue May 21 13:19:08 2019\n",
      "\n",
      "Fw: [公告] 請使用者多加注意我國保護兒少的法令\n",
      "作者: hateOnas (△怕老婆△怕老婆)\n",
      "時間: Wed Jul 24 17:34:05 2019\n",
      "\n",
      "[公告] 表特板板規(2019.7.26)\n",
      "作者: hateOnas (△怕老婆△怕老婆)\n",
      "時間: Fri Jul 26 12:21:17 2019\n",
      "\n",
      "[公告] 201907 板主徵選延長\n",
      "作者: hateOnas (△怕老婆△怕老婆)\n",
      "時間: Fri Jul 26 13:04:09 2019\n",
      "\n",
      "[公告] 請勿意淫推文 \n",
      "作者: hateOnas (△怕老婆△怕老婆)\n",
      "時間: Sat Nov 23 20:42:59 2019\n",
      "\n",
      "*********************************************\n",
      "爬完了，呼~\n"
     ]
    }
   ],
   "source": [
    "print('表特版爬蟲開始')\n",
    "print('*********************************************')\n",
    "beauty_url='https://www.ptt.cc/bbs/Beauty/index.html'\n",
    "beauty_r = requests.get(beauty_url,cookies={'over18': '1'})\n",
    "beauty_soup =  BeautifulSoup(beauty_r.text)\n",
    "for d in beauty_soup.find_all(class_='title'):\n",
    "    print(d.text.replace('\\t','').replace('\\n',''))\n",
    "    try:\n",
    "        beauty_article = BeautifulSoup(requests.get('https://www.ptt.cc'+d.find('a')['href'],cookies={'over18': '1'}).text, \"html5lib\")\n",
    "        print('作者:',beauty_article.find_all(class_='article-meta-value')[0].text)\n",
    "        print('時間:',beauty_article.find_all(class_='article-meta-value')[-1].text)\n",
    "        print()\n",
    "    except:\n",
    "        print()\n",
    "        continue\n",
    "print('*********************************************')\n",
    "print('爬完了，呼~')"
   ]
  }
 ],
 "metadata": {
  "kernelspec": {
   "display_name": "Python 3",
   "language": "python",
   "name": "python3"
  },
  "language_info": {
   "codemirror_mode": {
    "name": "ipython",
    "version": 3
   },
   "file_extension": ".py",
   "mimetype": "text/x-python",
   "name": "python",
   "nbconvert_exporter": "python",
   "pygments_lexer": "ipython3",
   "version": "3.7.4"
  }
 },
 "nbformat": 4,
 "nbformat_minor": 2
}
