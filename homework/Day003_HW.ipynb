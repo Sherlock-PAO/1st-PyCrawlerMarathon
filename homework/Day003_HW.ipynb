{
 "cells": [
  {
   "cell_type": "markdown",
   "metadata": {},
   "source": [
    "# Python 下載XML檔案與解析\n",
    "\n",
    "\n",
    "* 了解 xml 檔案格式與內容\n",
    "* 能夠利用套件存取 xml 格式的檔案\n"
   ]
  },
  {
   "cell_type": "markdown",
   "metadata": {},
   "source": [
    "## 作業目標\n",
    "\n",
    "* 比較一下範例檔案中的「File I/O」與「xmltodict」讀出來的內容有什麼差異\n",
    "\n",
    "* 根據範例檔案的結果：\n",
    "    1. 請問高雄市有多少地區有溫度資料？\n",
    "    2. 請取出每一個地區所記錄的第一個時間點跟溫度\n",
    "    3. 請取出第一個地區所記錄的每一個時間點跟溫度"
   ]
  },
  {
   "cell_type": "markdown",
   "metadata": {},
   "source": [
    "### 比較一下範例檔案中的「File I/O」與「xmltodict」讀出來的內容有什麼差異\n"
   ]
  },
  {
   "cell_type": "code",
   "execution_count": null,
   "metadata": {},
   "outputs": [],
   "source": [
    "#File I/O讀出的是xml檔的原始型態，是難以利用的字串\n",
    "#xmltodict是把xml轉成dict的型態，利用性佳"
   ]
  },
  {
   "cell_type": "markdown",
   "metadata": {},
   "source": [
    "### 根據範例檔案的結果：\n",
    "\n",
    "1. 請問高雄市有多少地區有溫度資料？\n",
    "2. 請取出每一個地區所記錄的第一個時間點跟溫度\n",
    "3. 請取出第一個地區所記錄的每一個時間點跟溫度"
   ]
  },
  {
   "cell_type": "code",
   "execution_count": 36,
   "metadata": {},
   "outputs": [
    {
     "name": "stdout",
     "output_type": "stream",
     "text": [
      "高雄市有 38 地區有溫度資料\n"
     ]
    }
   ],
   "source": [
    "# 1. 請問高雄市有多少地區有溫度資料？\n",
    "import xmltodict\n",
    "i=0\n",
    "with open('D:\\\\爬蟲\\\\D03\\\\64_72hr_CH.xml',encoding=\"utf-8\") as fd:\n",
    "    doc = dict(xmltodict.parse(fd.read()))\n",
    "locations=doc['cwbopendata']['dataset']['locations']['location']\n",
    "for location in locations:\n",
    "    i+=1\n",
    "print ('高雄市有',i,'地區有溫度資料')"
   ]
  },
  {
   "cell_type": "code",
   "execution_count": 29,
   "metadata": {},
   "outputs": [
    {
     "name": "stdout",
     "output_type": "stream",
     "text": [
      "{'鹽埕區': {'Time': '2019-06-28T12:00:00+08:00', 'Temperature': '33'}, '鼓山區': {'Time': '2019-06-28T12:00:00+08:00', 'Temperature': '33'}, '左營區': {'Time': '2019-06-28T12:00:00+08:00', 'Temperature': '33'}, '楠梓區': {'Time': '2019-06-28T12:00:00+08:00', 'Temperature': '34'}, '三民區': {'Time': '2019-06-28T12:00:00+08:00', 'Temperature': '32'}, '新興區': {'Time': '2019-06-28T12:00:00+08:00', 'Temperature': '33'}, '前金區': {'Time': '2019-06-28T12:00:00+08:00', 'Temperature': '33'}, '苓雅區': {'Time': '2019-06-28T12:00:00+08:00', 'Temperature': '33'}, '前鎮區': {'Time': '2019-06-28T12:00:00+08:00', 'Temperature': '33'}, '旗津區': {'Time': '2019-06-28T12:00:00+08:00', 'Temperature': '32'}, '小港區': {'Time': '2019-06-28T12:00:00+08:00', 'Temperature': '33'}, '鳳山區': {'Time': '2019-06-28T12:00:00+08:00', 'Temperature': '34'}, '林園區': {'Time': '2019-06-28T12:00:00+08:00', 'Temperature': '33'}, '大寮區': {'Time': '2019-06-28T12:00:00+08:00', 'Temperature': '34'}, '大樹區': {'Time': '2019-06-28T12:00:00+08:00', 'Temperature': '34'}, '大社區': {'Time': '2019-06-28T12:00:00+08:00', 'Temperature': '34'}, '仁武區': {'Time': '2019-06-28T12:00:00+08:00', 'Temperature': '33'}, '鳥松區': {'Time': '2019-06-28T12:00:00+08:00', 'Temperature': '34'}, '岡山區': {'Time': '2019-06-28T12:00:00+08:00', 'Temperature': '34'}, '橋頭區': {'Time': '2019-06-28T12:00:00+08:00', 'Temperature': '35'}, '燕巢區': {'Time': '2019-06-28T12:00:00+08:00', 'Temperature': '34'}, '田寮區': {'Time': '2019-06-28T12:00:00+08:00', 'Temperature': '34'}, '阿蓮區': {'Time': '2019-06-28T12:00:00+08:00', 'Temperature': '34'}, '路竹區': {'Time': '2019-06-28T12:00:00+08:00', 'Temperature': '33'}, '湖內區': {'Time': '2019-06-28T12:00:00+08:00', 'Temperature': '33'}, '茄萣區': {'Time': '2019-06-28T12:00:00+08:00', 'Temperature': '33'}, '永安區': {'Time': '2019-06-28T12:00:00+08:00', 'Temperature': '32'}, '彌陀區': {'Time': '2019-06-28T12:00:00+08:00', 'Temperature': '32'}, '梓官區': {'Time': '2019-06-28T12:00:00+08:00', 'Temperature': '32'}, '旗山區': {'Time': '2019-06-28T12:00:00+08:00', 'Temperature': '34'}, '美濃區': {'Time': '2019-06-28T12:00:00+08:00', 'Temperature': '34'}, '六龜區': {'Time': '2019-06-28T12:00:00+08:00', 'Temperature': '34'}, '甲仙區': {'Time': '2019-06-28T12:00:00+08:00', 'Temperature': '33'}, '杉林區': {'Time': '2019-06-28T12:00:00+08:00', 'Temperature': '36'}, '內門區': {'Time': '2019-06-28T12:00:00+08:00', 'Temperature': '34'}, '茂林區': {'Time': '2019-06-28T12:00:00+08:00', 'Temperature': '34'}, '桃源區': {'Time': '2019-06-28T12:00:00+08:00', 'Temperature': '31'}, '那瑪夏區': {'Time': '2019-06-28T12:00:00+08:00', 'Temperature': '29'}}\n"
     ]
    }
   ],
   "source": [
    "# 2. 請取出每一個地區所記錄的第一個時間點跟溫度\n",
    "weather_element={}\n",
    "for location in locations:\n",
    "    weather_element[location['locationName']]={'Time':location['weatherElement'][0]['time'][0]['dataTime'],'Temperature':location['weatherElement'][0]['time'][0]['elementValue']['value']}\n",
    "print(weather_element)    "
   ]
  },
  {
   "cell_type": "code",
   "execution_count": 35,
   "metadata": {},
   "outputs": [
    {
     "name": "stdout",
     "output_type": "stream",
     "text": [
      "[{'Time': '2019-06-28T12:00:00+08:00', 'Temperature': '33'}, {'Time': '2019-06-28T15:00:00+08:00', 'Temperature': '33'}, {'Time': '2019-06-28T18:00:00+08:00', 'Temperature': '32'}, {'Time': '2019-06-28T21:00:00+08:00', 'Temperature': '30'}, {'Time': '2019-06-29T00:00:00+08:00', 'Temperature': '30'}, {'Time': '2019-06-29T03:00:00+08:00', 'Temperature': '29'}, {'Time': '2019-06-29T06:00:00+08:00', 'Temperature': '28'}, {'Time': '2019-06-29T09:00:00+08:00', 'Temperature': '31'}, {'Time': '2019-06-29T12:00:00+08:00', 'Temperature': '32'}, {'Time': '2019-06-29T15:00:00+08:00', 'Temperature': '32'}, {'Time': '2019-06-29T18:00:00+08:00', 'Temperature': '31'}, {'Time': '2019-06-29T21:00:00+08:00', 'Temperature': '30'}, {'Time': '2019-06-30T00:00:00+08:00', 'Temperature': '29'}, {'Time': '2019-06-30T03:00:00+08:00', 'Temperature': '28'}, {'Time': '2019-06-30T06:00:00+08:00', 'Temperature': '28'}, {'Time': '2019-06-30T09:00:00+08:00', 'Temperature': '31'}, {'Time': '2019-06-30T12:00:00+08:00', 'Temperature': '32'}, {'Time': '2019-06-30T15:00:00+08:00', 'Temperature': '32'}, {'Time': '2019-06-30T18:00:00+08:00', 'Temperature': '31'}, {'Time': '2019-06-30T21:00:00+08:00', 'Temperature': '30'}, {'Time': '2019-07-01T00:00:00+08:00', 'Temperature': '29'}, {'Time': '2019-07-01T03:00:00+08:00', 'Temperature': '29'}, {'Time': '2019-07-01T06:00:00+08:00', 'Temperature': '28'}, {'Time': '2019-07-01T09:00:00+08:00', 'Temperature': '31'}]\n"
     ]
    }
   ],
   "source": [
    "# 3. 請取出第一個地區所記錄的每一個時間點跟溫度\n",
    "time_data=[]\n",
    "times=locations[0]['weatherElement'][0]['time']\n",
    "for time in times:\n",
    "    time_data.append({'Time':time['dataTime'],'Temperature':time['elementValue']['value']})\n",
    "print(time_data)    "
   ]
  },
  {
   "cell_type": "code",
   "execution_count": null,
   "metadata": {},
   "outputs": [],
   "source": []
  }
 ],
 "metadata": {
  "kernelspec": {
   "display_name": "Python 3",
   "language": "python",
   "name": "python3"
  },
  "language_info": {
   "codemirror_mode": {
    "name": "ipython",
    "version": 3
   },
   "file_extension": ".py",
   "mimetype": "text/x-python",
   "name": "python",
   "nbconvert_exporter": "python",
   "pygments_lexer": "ipython3",
   "version": "3.7.4"
  }
 },
 "nbformat": 4,
 "nbformat_minor": 2
}
