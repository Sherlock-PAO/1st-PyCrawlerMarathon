{
 "cells": [
  {
   "cell_type": "markdown",
   "metadata": {},
   "source": [
    "# API 資料串接 - 以 Dcard API 實作範例\n",
    "\n",
    "* 了解 Dcard API 使用方式與回傳內容\n",
    "* 撰寫程式存取 API 且解析 JSON 格式資料\n"
   ]
  },
  {
   "cell_type": "markdown",
   "metadata": {},
   "source": [
    "## 作業目標\n",
    "\n",
    "* 請利用 API: https://www.dcard.tw/_api/forums/pet/posts?popular=true 回答下列問題：\n",
    "\n",
    "1. 這個 API 一次會回傳幾筆資料？每一筆資料包含哪些欄位？\n",
    "2. 取出每一筆資料的「標題」、「貼文時間」、「留言人數」、「按讚人數」\n",
    "3. 計算熱門/非熱門文章的「平均留言人數」與「平均按讚人數」"
   ]
  },
  {
   "cell_type": "code",
   "execution_count": 2,
   "metadata": {},
   "outputs": [
    {
     "name": "stdout",
     "output_type": "stream",
     "text": [
      "這個 API 一次會回傳 30 筆資料\n",
      "每一筆資料有:\n",
      "id\n",
      "title\n",
      "excerpt\n",
      "anonymousSchool\n",
      "anonymousDepartment\n",
      "pinned\n",
      "forumId\n",
      "replyId\n",
      "createdAt\n",
      "updatedAt\n",
      "commentCount\n",
      "likeCount\n",
      "withNickname\n",
      "tags\n",
      "topics\n",
      "meta\n",
      "forumName\n",
      "forumAlias\n",
      "gender\n",
      "school\n",
      "replyTitle\n",
      "mediaMeta\n",
      "reactions\n",
      "hidden\n",
      "customStyle\n",
      "isSuspiciousAccount\n",
      "layout\n",
      "withImages\n",
      "withVideos\n",
      "media\n",
      "reportReasonText\n",
      "postAvatar\n"
     ]
    }
   ],
   "source": [
    "# 1. 這個 API 一次會回傳幾筆資料？每一筆資料包含哪些欄位？\n",
    "import requests\n",
    "r = requests.get('https://www.dcard.tw/_api/forums/pet/posts?popular=true')\n",
    "data=r.json()\n",
    "i = 0\n",
    "for d in data:\n",
    "    i+=1\n",
    "print('這個 API 一次會回傳',i,'筆資料')\n",
    "print('每一筆資料有:')\n",
    "for key in data[0].keys():\n",
    "    print(key)\n"
   ]
  },
  {
   "cell_type": "code",
   "execution_count": 3,
   "metadata": {},
   "outputs": [
    {
     "name": "stdout",
     "output_type": "stream",
     "text": [
      "[{'標題': '（幫推）急尋失去的聲音😢', '貼文時間': '2020-01-18T15:36:46.157Z', '留言人數': 18, '按讚人數': 655}, {'標題': '超可愛❤️七小福   🐶送養文', '貼文時間': '2020-01-18T00:44:24.091Z', '留言人數': 5, '按讚人數': 132}, {'標題': '小貓咪總要見阿公阿嬤Part2', '貼文時間': '2020-01-18T09:57:41.244Z', '留言人數': 4, '按讚人數': 117}, {'標題': '剩ㄙㄢ隻腳的它', '貼文時間': '2020-01-17T17:32:34.001Z', '留言人數': 2, '按讚人數': 43}, {'標題': '短腿小浪犬🐶', '貼文時間': '2020-01-18T11:45:51.351Z', '留言人數': 3, '按讚人數': 31}, {'標題': '寵物走失 黃金鼠(深棕相間白) 台北北投', '貼文時間': '2020-01-18T12:19:04.085Z', '留言人數': 6, '按讚人數': 30}, {'標題': '男友的小三之2', '貼文時間': '2020-01-18T07:36:55.513Z', '留言人數': 1, '按讚人數': 30}, {'標題': '屁貓', '貼文時間': '2020-01-18T04:35:37.604Z', '留言人數': 0, '按讚人數': 29}, {'標題': '決戰飲水機', '貼文時間': '2020-01-18T19:33:17.906Z', '留言人數': 9, '按讚人數': 24}, {'標題': '毛寶貝離開後在天空上浮現側臉', '貼文時間': '2020-01-18T13:32:44.023Z', '留言人數': 3, '按讚人數': 23}, {'標題': '阿拉❤️', '貼文時間': '2020-01-18T15:42:54.692Z', '留言人數': 1, '按讚人數': 21}, {'標題': '兄妹合體🐰', '貼文時間': '2020-01-18T11:49:31.559Z', '留言人數': 5, '按讚人數': 20}, {'標題': '急！！求收編！！白母貓🐱', '貼文時間': '2020-01-18T06:06:32.291Z', '留言人數': 2, '按讚人數': 18}, {'標題': '我的一隻毛', '貼文時間': '2020-01-18T11:45:31.081Z', '留言人數': 6, '按讚人數': 16}, {'標題': '這是一隻叫本丸的🐶', '貼文時間': '2020-01-18T20:42:39.601Z', '留言人數': 0, '按讚人數': 14}, {'標題': '請各位幫幫忙，延續咕嚕強韌的生命力 幫忙轉發謝謝', '貼文時間': '2020-01-18T11:21:19.958Z', '留言人數': 0, '按讚人數': 14}, {'標題': '爸媽不準養寵物的原因', '貼文時間': '2020-01-19T01:14:10.452Z', '留言人數': 0, '按讚人數': 13}, {'標題': '貓咪送養 已結紮 已打預防針', '貼文時間': '2020-01-18T03:10:37.933Z', '留言人數': 0, '按讚人數': 13}, {'標題': '寵物狗失蹤求幫忙😭 五堵附近走失', '貼文時間': '2020-01-18T12:35:31.771Z', '留言人數': 0, '按讚人數': 12}, {'標題': '理想vs現實', '貼文時間': '2020-01-18T11:19:53.842Z', '留言人數': 0, '按讚人數': 12}, {'標題': '養寵物？烏龜？（文長）', '貼文時間': '2020-01-18T03:27:46.146Z', '留言人數': 3, '按讚人數': 11}, {'標題': '我很自責', '貼文時間': '2020-01-18T19:01:47.283Z', '留言人數': 3, '按讚人數': 10}, {'標題': '柴犬正男', '貼文時間': '2020-01-18T18:59:02.447Z', '留言人數': 0, '按讚人數': 10}, {'標題': '求交出你家卯咪！', '貼文時間': '2020-01-18T16:55:17.977Z', '留言人數': 1, '按讚人數': 10}, {'標題': '搞壞野貓🤣🤣❤️❤️', '貼文時間': '2020-01-18T17:40:27.083Z', '留言人數': 1, '按讚人數': 9}, {'標題': '兔兔過年報喜', '貼文時間': '2020-01-19T03:44:13.287Z', '留言人數': 3, '按讚人數': 8}, {'標題': '睡覺吐舌👅', '貼文時間': '2020-01-18T18:52:23.697Z', '留言人數': 0, '按讚人數': 7}, {'標題': '⚠️遺失 台中尋愛犬', '貼文時間': '2020-01-18T16:06:21.237Z', '留言人數': 0, '按讚人數': 7}, {'標題': '另類溫杯', '貼文時間': '2020-01-18T15:58:48.470Z', '留言人數': 2, '按讚人數': 5}, {'標題': '剛撿到的小野貓脾氣不好是正常的嗎', '貼文時間': '2020-01-18T05:27:17.335Z', '留言人數': 3, '按讚人數': 5}]\n"
     ]
    }
   ],
   "source": [
    "# 2. 取出每一筆資料的「標題」、「貼文時間」、「留言人數」、「按讚人數」\n",
    "dcard_data=[]\n",
    "for d in data:\n",
    "    dcard_datum={'標題':d['title'],'貼文時間':d['createdAt'],'留言人數':d['commentCount'],'按讚人數':d['likeCount']}\n",
    "    dcard_data.append(dcard_datum)\n",
    "print(dcard_data)"
   ]
  },
  {
   "cell_type": "code",
   "execution_count": 4,
   "metadata": {},
   "outputs": [
    {
     "name": "stdout",
     "output_type": "stream",
     "text": [
      "熱門文章平均留言人數:  2.70  人\n",
      "熱門文章平均按讚人數:  44.97  人\n",
      "非熱門文章平均留言人數:  2.30  人\n",
      "非熱門文章平均按讚人數:  29.03  人\n"
     ]
    }
   ],
   "source": [
    "# 3. 計算熱門/非熱門文章的「平均留言人數」與「平均按讚人數」\n",
    "commentCount_avg = 0\n",
    "likeCount_avg = 0\n",
    "for dcard_datum in dcard_data:\n",
    "    commentCount_avg+=float(dcard_datum['留言人數'])/len(dcard_data)\n",
    "    likeCount_avg+=float(dcard_datum['按讚人數'])/len(dcard_data)\n",
    "print('熱門文章平均留言人數: ','%.2f'%commentCount_avg,' 人')\n",
    "print('熱門文章平均按讚人數: ','%.2f'%likeCount_avg,' 人')\n",
    "not_popular=requests.get('https://www.dcard.tw/_api/forums/pet/posts?popular=false')\n",
    "nps=not_popular.json()\n",
    "commentCount_avg = 0\n",
    "likeCount_avg = 0\n",
    "for np in nps:\n",
    "    commentCount_avg+=float(np['commentCount'])/len(nps)\n",
    "    likeCount_avg+=float(np['likeCount'])/len(nps)\n",
    "print('非熱門文章平均留言人數: ','%.2f'%commentCount_avg,' 人')\n",
    "print('非熱門文章平均按讚人數: ','%.2f'%likeCount_avg,' 人')"
   ]
  },
  {
   "cell_type": "code",
   "execution_count": null,
   "metadata": {},
   "outputs": [],
   "source": []
  },
  {
   "cell_type": "code",
   "execution_count": null,
   "metadata": {},
   "outputs": [],
   "source": []
  }
 ],
 "metadata": {
  "kernelspec": {
   "display_name": "Python 3",
   "language": "python",
   "name": "python3"
  },
  "language_info": {
   "codemirror_mode": {
    "name": "ipython",
    "version": 3
   },
   "file_extension": ".py",
   "mimetype": "text/x-python",
   "name": "python",
   "nbconvert_exporter": "python",
   "pygments_lexer": "ipython3",
   "version": "3.7.4"
  }
 },
 "nbformat": 4,
 "nbformat_minor": 2
}
